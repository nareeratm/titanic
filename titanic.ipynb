{
 "cells": [
  {
   "cell_type": "markdown",
   "metadata": {},
   "source": [
    "<img src=\"http://imgur.com/1ZcRyrc.png\" style=\"float: left; margin: 20px; height: 55px\" />\n",
    "\n",
    "# Lab: Titanic EDA\n",
    "\n",
    "---\n",
    "For this lab, we're going to take a look at the Titanic manifest. We'll be exploring this data to see what we can learn regarding the survival rates of different groups of people."
   ]
  },
  {
   "cell_type": "markdown",
   "metadata": {},
   "source": [
    "## Step 1: Reading the data\n",
    "\n",
    "1. Read the titanic data (in the form of the `train.csv` in this repo using the appropriate Pandas method)."
   ]
  },
  {
   "cell_type": "code",
   "execution_count": null,
   "metadata": {},
   "outputs": [],
   "source": [
    "import pandas as pd\n",
    "import matplotlib.pyplot as plt\n",
    "import seaborn as sns\n",
    "import missingno as msno"
   ]
  },
  {
   "cell_type": "code",
   "execution_count": null,
   "metadata": {},
   "outputs": [],
   "source": [
    "train = pd.read_csv(\"train.csv\")"
   ]
  },
  {
   "cell_type": "code",
   "execution_count": null,
   "metadata": {},
   "outputs": [],
   "source": [
    "train.columns"
   ]
  },
  {
   "cell_type": "code",
   "execution_count": null,
   "metadata": {},
   "outputs": [],
   "source": [
    "train.isnull().sum()"
   ]
  },
  {
   "cell_type": "markdown",
   "metadata": {},
   "source": [
    "### Data Dictionary\n",
    "\n",
    "| Variable | Description | Details |\n",
    "|----------|-------------|---------|\n",
    "| survival | Survival | 0 = No; 1 = Yes |\n",
    "| pclass | Passenger Class | 1 = 1st; 2 = 2nd; 3 = 3rd |\n",
    "| name | First and Last Name | |\n",
    "| sex | Sex | |\n",
    "| age | Age | |\n",
    "| sibsp | Number of Siblings/Spouses Aboard | |\n",
    "| parch | Number of Parents/Children Aboard | |\n",
    "| ticket | Ticket Number | |\n",
    "| fare | Passenger Fare | |\n",
    "| cabin | Cabin | |\n",
    "| embarked | Port of Embarkation | C = Cherbourg; Q = Queenstown; S = Southampton |"
   ]
  },
  {
   "cell_type": "markdown",
   "metadata": {},
   "source": [
    "## Step 2: Cleaning the data\n",
    "####  1. Create a bar chart showing how many missing values are in each column"
   ]
  },
  {
   "cell_type": "code",
   "execution_count": null,
   "metadata": {},
   "outputs": [],
   "source": [
    "msno.bar(train.sample(891))"
   ]
  },
  {
   "cell_type": "markdown",
   "metadata": {},
   "source": [
    "####  2. Which column has the most `NaN` values? How many cells in that column are empty?\n"
   ]
  },
  {
   "cell_type": "code",
   "execution_count": null,
   "metadata": {},
   "outputs": [],
   "source": [
    "train.isnull().sum() # The 'Cabin' column has the most NaNs = 687."
   ]
  },
  {
   "cell_type": "markdown",
   "metadata": {},
   "source": [
    "####  3. Delete all rows where `Embarked` is empty"
   ]
  },
  {
   "cell_type": "code",
   "execution_count": null,
   "metadata": {},
   "outputs": [],
   "source": [
    "train = train.dropna(subset=['Embarked']).reset_index(drop=True)"
   ]
  },
  {
   "cell_type": "code",
   "execution_count": null,
   "metadata": {},
   "outputs": [],
   "source": [
    "train['Embarked'].isnull().sum()"
   ]
  },
  {
   "cell_type": "markdown",
   "metadata": {},
   "source": [
    "#### 4. Fill all empty cabins with **¯\\\\_(ツ)_/¯**\n",
    "\n",
    "Note: `NaN`, empty, and missing are synonymous."
   ]
  },
  {
   "cell_type": "code",
   "execution_count": null,
   "metadata": {},
   "outputs": [],
   "source": [
    "train['Cabin'] = train['Cabin'].fillna(\"¯\\\\_(ツ)_/¯\")"
   ]
  },
  {
   "cell_type": "code",
   "execution_count": null,
   "metadata": {},
   "outputs": [],
   "source": [
    "train['Cabin'].isnull().sum() #check"
   ]
  },
  {
   "cell_type": "markdown",
   "metadata": {},
   "source": [
    "## Step 3: Feature extraction"
   ]
  },
  {
   "cell_type": "markdown",
   "metadata": {},
   "source": [
    "#### 1.  There are two columns that pertain to how many family members are on the boat for a given person. Create a new column called `FamilyCount` which will be the sum of those two columns."
   ]
  },
  {
   "cell_type": "code",
   "execution_count": null,
   "metadata": {},
   "outputs": [],
   "source": [
    "train['FamilyCount'] = train['SibSp'] + train['Parch']"
   ]
  },
  {
   "cell_type": "code",
   "execution_count": null,
   "metadata": {},
   "outputs": [],
   "source": [
    "train.info()"
   ]
  },
  {
   "cell_type": "markdown",
   "metadata": {},
   "source": [
    "#### 2. Reverends have a special title in their name. Create a column called `IsReverend`: 1 if they're a preacher, 0 if they're not.\n"
   ]
  },
  {
   "cell_type": "code",
   "execution_count": null,
   "metadata": {},
   "outputs": [],
   "source": [
    "#train['Name'].unique()"
   ]
  },
  {
   "cell_type": "code",
   "execution_count": null,
   "metadata": {},
   "outputs": [],
   "source": [
    "train['IsReverend'] = train['Name'].apply(lambda x: 1 if 'Rev.' in x else 0)"
   ]
  },
  {
   "cell_type": "markdown",
   "metadata": {},
   "source": [
    "#### 3. In order to feed our training data into a classification algorithm, we need to convert our categories into 1's and 0's using `pd.get_dummies`.\n",
    "\n",
    "  - Familiarize yourself with the [**`pd.get_dummies` documentation**](https://pandas.pydata.org/pandas-docs/stable/reference/api/pandas.get_dummies.html)\n",
    "  - Create 3 columns: `Embarked_C`, `Embarked_Q` and `Embarked_S`. These columns will have 1's and 0's that correspond to the `C`, `Q` and `S` values in the `Embarked` column\n",
    "  - Do the same thing for `Sex`\n",
    "  - BONUS (required): Extract the title from everyone's name and create dummy columns"
   ]
  },
  {
   "cell_type": "code",
   "execution_count": null,
   "metadata": {},
   "outputs": [],
   "source": [
    "train['Embarked'].unique()"
   ]
  },
  {
   "cell_type": "code",
   "execution_count": null,
   "metadata": {},
   "outputs": [],
   "source": [
    "# to create dummy variables \n",
    "embarked_dummies = pd.get_dummies(train['Embarked'], prefix='Embarked') # I forgot to put dtype=int\n",
    "# to merge the dummy variables to the original df train.\n",
    "train = pd.concat([train, embarked_dummies], axis=1) "
   ]
  },
  {
   "cell_type": "code",
   "execution_count": null,
   "metadata": {},
   "outputs": [],
   "source": [
    "train.drop(columns=['Embarked_C', 'Embarked_S', 'Embarked_Q'], inplace=True)"
   ]
  },
  {
   "cell_type": "code",
   "execution_count": null,
   "metadata": {},
   "outputs": [],
   "source": [
    "train.head()"
   ]
  },
  {
   "cell_type": "code",
   "execution_count": null,
   "metadata": {},
   "outputs": [],
   "source": [
    "# to create dummy variables \n",
    "embarked_dummies = pd.get_dummies(train['Embarked'], prefix='Embarked', dtype=int) # put dtype=int\n",
    "# to merge the dummy variables to the original df train.\n",
    "train = pd.concat([train, embarked_dummies], axis=1)"
   ]
  },
  {
   "cell_type": "code",
   "execution_count": null,
   "metadata": {},
   "outputs": [],
   "source": [
    "# Extract titles from the Name column\n",
    "train['Title'] = train['Name'].str.extract('([A-Za-z]+)\\\\.', expand=False)\n",
    " \n",
    "# Create dummy variables for Sex\n",
    "sex_dummies = pd.get_dummies(train['Sex'], prefix='Sex', dtype=int)\n",
    "\n",
    "# Create dummy variables for Title\n",
    "title_dummies = pd.get_dummies(train['Title'], prefix='Title', dtype=int)\n",
    "\n",
    "# Merge the dummy variables with the original DataFrame\n",
    "train = pd.concat([train, sex_dummies, title_dummies], axis=1)"
   ]
  },
  {
   "cell_type": "code",
   "execution_count": null,
   "metadata": {},
   "outputs": [],
   "source": [
    "train.columns"
   ]
  },
  {
   "cell_type": "markdown",
   "metadata": {},
   "source": [
    "## Step 4: Exploratory analysis"
   ]
  },
  {
   "cell_type": "markdown",
   "metadata": {},
   "source": [
    "_[`df.groupby()`](https://pandas.pydata.org/pandas-docs/stable/reference/api/pandas.DataFrame.groupby.html) may be very useful._"
   ]
  },
  {
   "cell_type": "markdown",
   "metadata": {},
   "source": [
    "#### 1. What was the survival rate overall?\n"
   ]
  },
  {
   "cell_type": "code",
   "execution_count": null,
   "metadata": {},
   "outputs": [],
   "source": [
    "train.shape"
   ]
  },
  {
   "cell_type": "code",
   "execution_count": null,
   "metadata": {},
   "outputs": [],
   "source": [
    "train['Survived'].value_counts() # (340/889)*100"
   ]
  },
  {
   "cell_type": "code",
   "execution_count": null,
   "metadata": {},
   "outputs": [],
   "source": [
    "survival_rate = (340/889.0)*100 # survival rate = 38.2% (percent survived)\n",
    "print(survival_rate)"
   ]
  },
  {
   "cell_type": "markdown",
   "metadata": {},
   "source": [
    "#### 2. Which gender fared the worst? What was their survival rate?"
   ]
  },
  {
   "cell_type": "code",
   "execution_count": null,
   "metadata": {},
   "outputs": [],
   "source": [
    "#train['Sex'].value_counts() #577 males, 312 females in total??\n",
    "total_survivors = train[train['Survived']==1].shape[0]"
   ]
  },
  {
   "cell_type": "code",
   "execution_count": null,
   "metadata": {},
   "outputs": [],
   "source": [
    "#train = train.loc[:,~train.columns.duplicated()]"
   ]
  },
  {
   "cell_type": "code",
   "execution_count": null,
   "metadata": {},
   "outputs": [],
   "source": [
    "female_survivors = train[(train['Sex'] == 'female') & (train['Survived'] == 1)].shape[0] #output 231 females survived"
   ]
  },
  {
   "cell_type": "code",
   "execution_count": null,
   "metadata": {},
   "outputs": [],
   "source": [
    "male_survivors = train[(train['Sex'] == 'male') & (train['Survived'] == 1)].shape[0] #output 109 males survived"
   ]
  },
  {
   "cell_type": "code",
   "execution_count": null,
   "metadata": {},
   "outputs": [],
   "source": [
    "female_survival_rate = (female_survivors/total_survivors)*100 # % females survived out of total survivors"
   ]
  },
  {
   "cell_type": "code",
   "execution_count": null,
   "metadata": {},
   "outputs": [],
   "source": [
    "male_survival_rate = (male_survivors/total_survivors)*100 # % males survived out of total survivors"
   ]
  },
  {
   "cell_type": "code",
   "execution_count": null,
   "metadata": {},
   "outputs": [],
   "source": [
    "print(f\"The males fared the worst. Only {male_survival_rate:.2f}% males survived.\")"
   ]
  },
  {
   "cell_type": "markdown",
   "metadata": {},
   "source": [
    "#### 3. What was the survival rate for each `Pclass`?"
   ]
  },
  {
   "cell_type": "code",
   "execution_count": null,
   "metadata": {},
   "outputs": [],
   "source": [
    "get_survivors = train[['Survived', 'Pclass']].groupby(['Pclass']).sum()\n",
    "get_survivors"
   ]
  },
  {
   "cell_type": "code",
   "execution_count": null,
   "metadata": {},
   "outputs": [],
   "source": [
    "#percent_survivors = (get_survivors / total_survivors) * 100\n",
    "\"\"\"\n",
    "    1st class= (134/340)*100 = 39.4%, \n",
    "    2nd class = (87/340)*100 = 25.6%, \n",
    "    3rd class=(119/340)*100 = 35.0% \"\"\""
   ]
  },
  {
   "cell_type": "markdown",
   "metadata": {},
   "source": [
    "#### 4. Did any reverends survive? How many?`"
   ]
  },
  {
   "cell_type": "code",
   "execution_count": null,
   "metadata": {},
   "outputs": [],
   "source": [
    "reverends = train[train['Name'].str.contains('Rev.')]\n",
    "\n",
    "reverends_survived = reverends[reverends['Survived'] == 1]\n",
    "\n",
    "# Get the number of reverends who survived\n",
    "num_reverends_survived = reverends_survived.shape[0]"
   ]
  },
  {
   "cell_type": "markdown",
   "metadata": {},
   "source": [
    "#### 5. What is the survival rate for cabins marked **¯\\\\_(ツ)_/¯**"
   ]
  },
  {
   "cell_type": "code",
   "execution_count": null,
   "metadata": {},
   "outputs": [],
   "source": [
    "# Filter rows where 'Cabin' is marked with '¯\\_(ツ)_/¯' \n",
    "marked_cabins = train[(train['Cabin'] == r\"¯\\_(ツ)_/¯\") & (train['Survived'] ==1)]\n",
    "\n",
    "# Calculate the survival rate\n",
    "survival_rate_marked_cabins = marked_cabins.shape[0]/total_survivors*100"
   ]
  },
  {
   "cell_type": "code",
   "execution_count": null,
   "metadata": {},
   "outputs": [],
   "source": [
    "marked_cabins.shape[0]"
   ]
  },
  {
   "cell_type": "code",
   "execution_count": null,
   "metadata": {},
   "outputs": [],
   "source": [
    "print(f\"The survival rate for marked cabins is {survival_rate_marked_cabins:.2f}%.\")"
   ]
  },
  {
   "cell_type": "code",
   "execution_count": null,
   "metadata": {},
   "outputs": [],
   "source": [
    "# just checking answer please ignore\n",
    "#train[['Survived', 'Cabin']].value_counts() \n",
    "#print(\"(206/340)*100 = 60.5%\")"
   ]
  },
  {
   "cell_type": "markdown",
   "metadata": {},
   "source": [
    "#### 6. What is the survival rate for people whose `Age` is empty?"
   ]
  },
  {
   "cell_type": "code",
   "execution_count": null,
   "metadata": {},
   "outputs": [],
   "source": [
    "nan_age_passengers = train[train['Age'].isna()].shape[0]\n",
    "survival_rate_nan_age = (nan_age_passengers/total_survivors)*100"
   ]
  },
  {
   "cell_type": "markdown",
   "metadata": {},
   "source": [
    "####  7. What is the survival rate for each port of embarkation?"
   ]
  },
  {
   "cell_type": "code",
   "execution_count": null,
   "metadata": {},
   "outputs": [],
   "source": [
    "#Histogram\n",
    "axes = train.hist('Survived', by='Embarked', layout=[1,3], figsize =[7,2])\n",
    "# Add labels on top of the bars\n",
    "for ax in axes.flatten():\n",
    "    for patch in ax.patches:\n",
    "        ax.annotate(f'{int(patch.get_height())}', \n",
    "                    (patch.get_x() + patch.get_width() / 2, patch.get_height()), \n",
    "                    ha='center', va='bottom');\n",
    "\n",
    "c_survivors = (93/total_survivors)*100\n",
    "q_survivors = (30/total_survivors)*100\n",
    "s_survivors = (217/total_survivors)*100\n",
    "print(f\"C survivors {c_survivors}%, Q survivors {q_survivors}%, and S survivors {s_survivors}%.\")"
   ]
  },
  {
   "cell_type": "markdown",
   "metadata": {},
   "source": [
    "#### 8. What is the survival rate for children (under 12) in each `Pclass`?"
   ]
  },
  {
   "cell_type": "code",
   "execution_count": null,
   "metadata": {},
   "outputs": [],
   "source": [
    "train[train['Age'] <12].shape  #total children under 12 = 68 kids."
   ]
  },
  {
   "cell_type": "code",
   "execution_count": null,
   "metadata": {},
   "outputs": [],
   "source": [
    "train[(train['Age'] <12) & (train['Survived']==1)] # =39 kids"
   ]
  },
  {
   "cell_type": "code",
   "execution_count": null,
   "metadata": {},
   "outputs": [],
   "source": [
    "train[(train['Age'] <12) & (train['Survived']==1)].groupby('Pclass').size()"
   ]
  },
  {
   "cell_type": "code",
   "execution_count": null,
   "metadata": {},
   "outputs": [],
   "source": [
    "\"\"\"Answer: firstclass_undertwelve = (3/39)*100 = 7.7%\n",
    "            secondclass_undertwelve = (17/39)*100 = 43.6%\n",
    "            thridclass_undertwelve = (19/39)*100 = 48.7%\"\"\""
   ]
  },
  {
   "cell_type": "markdown",
   "metadata": {},
   "source": [
    "####  9. Did the captain of the ship survive? Is he on the list?"
   ]
  },
  {
   "cell_type": "code",
   "execution_count": null,
   "metadata": {},
   "outputs": [],
   "source": [
    "captain = train[train['Name'].str.contains('Capt.')] #actual captain's name was Edward John Smith\n",
    "print(f\"The captain's name was Crosby, Capt. Edward Gifford and he did not survive.\")"
   ]
  },
  {
   "cell_type": "markdown",
   "metadata": {},
   "source": [
    "#### 10. Of all the people that died, who had the most expensive ticket? How much did it cost?"
   ]
  },
  {
   "cell_type": "code",
   "execution_count": null,
   "metadata": {},
   "outputs": [],
   "source": [
    "train[train['Survived'] == 0].describe() #Fare max = 263 USD/Pounds Sterling"
   ]
  },
  {
   "cell_type": "code",
   "execution_count": null,
   "metadata": {},
   "outputs": [],
   "source": [
    "train[(train['Survived'] == 0) & (train['Fare']==263)] # 2 people with the highest fare. Name: Fortune, Mr. Charles Alexander and Fortune, Mr. Mark"
   ]
  },
  {
   "cell_type": "code",
   "execution_count": null,
   "metadata": {},
   "outputs": [],
   "source": [
    "deaths = train[train['Survived'] == 0] #df filtered just the deaths i.e. survived =0 "
   ]
  },
  {
   "cell_type": "code",
   "execution_count": null,
   "metadata": {},
   "outputs": [],
   "source": [
    "deaths['Fare'].max()"
   ]
  },
  {
   "cell_type": "markdown",
   "metadata": {},
   "source": [
    "#### 11. Does having family on the boat help or hurt your chances of survival?"
   ]
  },
  {
   "cell_type": "code",
   "execution_count": null,
   "metadata": {},
   "outputs": [],
   "source": [
    "train[['FamilyCount', 'Survived']].value_counts() # It appears that by being alone (FamilyCount =0) your chances of dying increases.\n",
    "#374 people died alone (FamilyCount=0) compared to deaths lower than 72 for 1,2 3, 4, 5, etc. family members.\n",
    "#However, the number of single people are also the maximum in terms of count for survivors. \n",
    "singles_survived = (161/340)*100\n",
    "print(f\"The survival rate for single people is {singles_survived:.2f}%, which is the highest percentage of the survivors.\")"
   ]
  },
  {
   "cell_type": "markdown",
   "metadata": {},
   "source": [
    "## Step 5: Plotting\n",
    "Using Matplotlib and Seaborn, create multiple charts showing the survival rates of different groups of people. It's fine if a handful of charts are basic (Gender, Age, etc), but what we're really looking for is something beneath the surface.\n"
   ]
  },
  {
   "cell_type": "code",
   "execution_count": null,
   "metadata": {},
   "outputs": [],
   "source": [
    "train['Sex'].value_counts().plot(kind='bar');"
   ]
  },
  {
   "cell_type": "code",
   "execution_count": null,
   "metadata": {},
   "outputs": [],
   "source": [
    "#Survival rate for Males and Females\n",
    "\n",
    "fig, axs = plt.subplots(1,2)\n",
    "train[train['Sex'] == 'female'].Survived.value_counts().plot(kind='barh', ax=axs[0], title=\"Females Survived (Survived=1)\")\n",
    "train[train['Sex'] == 'male'].Survived.value_counts().plot(kind='barh', ax=axs[1], title=\"Male Survived (Survived=1)\");"
   ]
  },
  {
   "cell_type": "code",
   "execution_count": null,
   "metadata": {},
   "outputs": [],
   "source": [
    "# Countplot for Males and Females survived\n",
    "sns.catplot(x =\"Sex\", hue =\"Survived\",  \n",
    "kind =\"count\", data = train);"
   ]
  },
  {
   "cell_type": "code",
   "execution_count": null,
   "metadata": {},
   "outputs": [],
   "source": [
    "#Survival rate for Children <12 Years Old\n",
    "train[train['Age'] <12].Survived.value_counts().plot(kind='barh', title=\"Children <12 Survived (survived=1)\");"
   ]
  },
  {
   "cell_type": "code",
   "execution_count": null,
   "metadata": {},
   "outputs": [],
   "source": [
    "#count plot for embarked place, class and survival rate. Seems like 3rd class had the worst survival, who mostly embarked from S.\n",
    " \n",
    "sns.catplot(x ='Embarked', hue ='Survived',  \n",
    "kind ='count', col ='Pclass', data = train); \n"
   ]
  },
  {
   "cell_type": "code",
   "execution_count": null,
   "metadata": {},
   "outputs": [],
   "source": [
    "#Distribution of Age\n",
    "sns.displot(train['Age']);"
   ]
  },
  {
   "cell_type": "code",
   "execution_count": null,
   "metadata": {},
   "outputs": [],
   "source": [
    "#survival rate for age : Mostly children under 8 and middle aged people survived 20-50s years old.\n",
    "# Bin the ages into 10 bins\n",
    "train['AgeBin'] = pd.cut(train['Age'], bins=10)\n",
    "\n",
    "# Count the number of survivors for each age bin\n",
    "age_bin_survivor_count = train[train['Survived'] == 1].groupby('AgeBin')['Survived'].count()\n",
    "\n",
    "# Plot the bar chart\n",
    "plt.figure(figsize=(12, 6))\n",
    "age_bin_survivor_count.plot(kind='bar', color='blue')\n",
    "plt.title('Survivor Count by Age Range on the Titanic', fontsize=15)\n",
    "plt.xlabel('Age Range', fontsize=12)\n",
    "plt.ylabel('Survivor Count', fontsize=12)\n",
    "plt.xticks(rotation=45)\n",
    "plt.grid(True, alpha=0.3)\n",
    "plt.show();"
   ]
  },
  {
   "cell_type": "code",
   "execution_count": null,
   "metadata": {},
   "outputs": [],
   "source": [
    "#survival rate for family\n",
    "\n",
    "# Filter the DataFrame for survivors\n",
    "survivors_train = train[train['Survived'] == 1]\n",
    "\n",
    "#  histogram for FamilyCount\n",
    "plt.figure(figsize=(10, 6))\n",
    "plt.hist(survivors_train['FamilyCount'], bins=range(survivors_train['FamilyCount'].max() + 2), color='blue', edgecolor='black')\n",
    "plt.title('Histogram of Family Count for Survived Passengers on the Titanic', fontsize=15)\n",
    "plt.xlabel('Number of Family Members', fontsize=12)\n",
    "plt.ylabel('Count of Survivors', fontsize=12)\n",
    "plt.grid(True, alpha=0.3)\n",
    "plt.show();"
   ]
  },
  {
   "cell_type": "code",
   "execution_count": null,
   "metadata": {},
   "outputs": [],
   "source": [
    "# Filter the DataFrame for survivors\n",
    "survivors_train = train[train['Survived'] == 0]\n",
    "\n",
    "#  histogram for FamilyCount\n",
    "plt.figure(figsize=(10, 6))\n",
    "plt.hist(survivors_train['FamilyCount'], bins=range(survivors_train['FamilyCount'].max() + 2), color='blue', edgecolor='black')\n",
    "plt.title('Histogram of Family Count for Passengers on the Titanic Who Did Not Survive', fontsize=15)\n",
    "plt.xlabel('Number of Family Members', fontsize=12)\n",
    "plt.ylabel('Count of Survivors', fontsize=12)\n",
    "plt.grid(True, alpha=0.3)\n",
    "plt.show();"
   ]
  },
  {
   "cell_type": "code",
   "execution_count": null,
   "metadata": {},
   "outputs": [],
   "source": [
    "#survival rate for fare : seems like higher fares have higher survival rates.\n",
    "\n",
    "# Divide Fare into 10 bins \n",
    "train['Fare_Range'] = pd.qcut(train['Fare'], 4)\n",
    "sns.barplot(x ='Fare_Range', y ='Survived',  \n",
    "data = train);"
   ]
  },
  {
   "cell_type": "code",
   "execution_count": null,
   "metadata": {},
   "outputs": [],
   "source": []
  }
 ],
 "metadata": {
  "kernelspec": {
   "display_name": "Python 3 (ipykernel)",
   "language": "python",
   "name": "python3"
  },
  "language_info": {
   "codemirror_mode": {
    "name": "ipython",
    "version": 3
   },
   "file_extension": ".py",
   "mimetype": "text/x-python",
   "name": "python",
   "nbconvert_exporter": "python",
   "pygments_lexer": "ipython3",
   "version": "3.12.4"
  }
 },
 "nbformat": 4,
 "nbformat_minor": 4
}
